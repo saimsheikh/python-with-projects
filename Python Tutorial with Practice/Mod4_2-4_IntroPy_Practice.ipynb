{
 "cells": [
  {
   "cell_type": "markdown",
   "metadata": {},
   "source": [
    "# 2-4 Intro Python Practice\n",
    "## Working with Files\n",
    "\n",
    "<font size=\"5\" color=\"#00A0B2\"  face=\"verdana\"> <B>Student will be able to</B></font>  \n",
    " \n",
    "- Import files into Jupyter notebooks  \n",
    "- Open and **`.read()`** local files in memory   \n",
    "- Use **`.read()`** to read a specific number of characters  \n",
    "- Use **`.readlines()`** to read data from file as a **list** of lines  \n",
    "- Use **`.readlines()`** to read data from file as a **list** of lines   \n",
    "- Use **`.readline()`** to read data from file a line at a time   \n",
    "- Use **`.strip()`** to remove new line characters  \n",
    "- Use `.write()` to write data to a new local file  \n",
    "- Use **`.seek()`** to set file read or write location  \n",
    "- Use file append mode  \n"
   ]
  },
  {
   "cell_type": "markdown",
   "metadata": {
    "collapsed": true
   },
   "source": [
    "# &nbsp;\n",
    "<font size=\"6\" color=\"#B24C00\"  face=\"verdana\"> <B>Task 1</B></font>\n",
    "\n",
    "## Order the Rainbow\n",
    "#### Open the rainbow file then put in a list and print in alphabetical order\n",
    "Download and open the file. \n",
    "- Download list of rainbow colors, as `rainbow.txt`, using `curl` \n",
    "  https://raw.githubusercontent.com/MicrosoftLearning/intropython/master/rainbow   \n",
    "- Open rainbow.txt in read mode using a variable: rainbow_file   \n",
    " "
   ]
  },
  {
   "cell_type": "code",
   "execution_count": 1,
   "metadata": {
    "collapsed": false
   },
   "outputs": [
    {
     "ename": "SyntaxError",
     "evalue": "invalid syntax (1218798605.py, line 1)",
     "output_type": "error",
     "traceback": [
      "\u001b[1;36m  Cell \u001b[1;32mIn[1], line 1\u001b[1;36m\u001b[0m\n\u001b[1;33m    import https://raw.githubusercontent.com/MicrosoftLearning/intropython/master/rainbow as rainbow.txt\u001b[0m\n\u001b[1;37m                ^\u001b[0m\n\u001b[1;31mSyntaxError\u001b[0m\u001b[1;31m:\u001b[0m invalid syntax\n"
     ]
    }
   ],
   "source": [
    "import https://raw.githubusercontent.com/MicrosoftLearning/intropython/master/rainbow as rainbow.txt\n",
    "\n",
    "\n"
   ]
  },
  {
   "cell_type": "markdown",
   "metadata": {},
   "source": [
    "\n",
    "- Read rainbow_file as a list variable: rainbow_colors using `.readlines()`    \n"
   ]
  },
  {
   "cell_type": "code",
   "execution_count": 3,
   "metadata": {
    "collapsed": false
   },
   "outputs": [
    {
     "name": "stdout",
     "output_type": "stream",
     "text": [
      "['red\\n', 'orange\\n', 'yellow\\n', 'green\\n', 'blue\\n', 'indigo\\n', 'violet\\n']\n"
     ]
    }
   ],
   "source": [
    "# [ ]  Open rainbow.txt in read mode & read as list with .readlines()\n",
    "rainbow = open('rainbow.txt', 'r')\n",
    "rainbow_list = rainbow.readlines()\n",
    "print(rainbow_list)\n",
    "rainbow.close()\n",
    "\n",
    "\n",
    "\n",
    "\n"
   ]
  },
  {
   "cell_type": "markdown",
   "metadata": {},
   "source": [
    " \n",
    "1. Sort the rainbow_lines list alphabetically.  \n",
    "2. Print each line of rainbow_lines by iterating the sorted list.  \n",
    "3. Close rainbow_file.  "
   ]
  },
  {
   "cell_type": "code",
   "execution_count": 4,
   "metadata": {
    "collapsed": false
   },
   "outputs": [
    {
     "name": "stdout",
     "output_type": "stream",
     "text": [
      "blue\n",
      "\n",
      "green\n",
      "\n",
      "indigo\n",
      "\n",
      "orange\n",
      "\n",
      "red\n",
      "\n",
      "violet\n",
      "\n",
      "yellow\n",
      "\n"
     ]
    }
   ],
   "source": [
    "# [ ] sort rainbow_colors list, iterate the list to print each color\n",
    "rainbow_list.sort()\n",
    "for color in rainbow_list:\n",
    "    print(color)\n",
    "    \n",
    "\n"
   ]
  },
  {
   "cell_type": "markdown",
   "metadata": {
    "collapsed": true
   },
   "source": [
    "# &nbsp;\n",
    "<font size=\"6\" color=\"#B24C00\"  face=\"verdana\"> <B>Task 2</B></font>\n",
    "\n",
    "## The Weather\n",
    "Create a program that reads from a file to display city name and average temperature in Celsius.   \n",
    "\n",
    "&nbsp;  \n",
    "- use `!curl` to download https://raw.githubusercontent.com/MicrosoftLearning/intropython/master/world_temp_mean.csv as `mean_temp.txt`  \n",
    "  \n"
   ]
  },
  {
   "cell_type": "code",
   "execution_count": 13,
   "metadata": {
    "collapsed": false
   },
   "outputs": [
    {
     "name": "stdout",
     "output_type": "stream",
     "text": [
      "['Beijing,China,30.9,-8.4\\n', 'Cairo,Egypt,34.7,1.2\\n', 'London,UK,23.5,2.1\\n', 'Nairobi,Kenya,26.3,10.5\\n', 'New York City,USA,28.9,-2.8\\n', 'Sydney,Australia,26.5,8.7\\n', 'Tokyo,Japan,30.8,0.9\\n', 'city,country,month ave: highest high,month ave: lowest low\\n']\n",
      "Beijing 30.9\n",
      "Cairo 34.7\n",
      "London 23.5\n",
      "Nairobi 26.3\n",
      "New York City 28.9\n",
      "Sydney 26.5\n",
      "Tokyo 30.8\n",
      "city month ave: highest high\n"
     ]
    }
   ],
   "source": [
    "# [ ] The Weather: import world_mean_team.csv as mean_temp.txt\n",
    "#Create a program that reads from a file to display city name and average temperature in Celsius. \n",
    "\n",
    "file= open('world_temp_mean.csv', 'r')\n",
    "mean_temp = file.readlines()\n",
    "mean_temp.sort()\n",
    "print(mean_temp)\n",
    "\n",
    "for city in mean_temp:\n",
    "    print(city.split(\",\")[0]+\" \"+city.split(\",\")[2])\n",
    "\n",
    "\n",
    "\n",
    "\n",
    "\n",
    "\n"
   ]
  },
  {
   "cell_type": "markdown",
   "metadata": {},
   "source": [
    "1. Open the file in `'r'` mode.  \n",
    "2. Read the first line of text into a variable called: `  headings` and `print()`.  \n",
    "3. Convert `headings` to a list using **`.split(',')`** which splits on each comma, `print()` the list.\n"
   ]
  },
  {
   "cell_type": "code",
   "execution_count": 15,
   "metadata": {
    "collapsed": false
   },
   "outputs": [
    {
     "name": "stdout",
     "output_type": "stream",
     "text": [
      "city,country,month ave: highest high,month ave: lowest low\n",
      "\n",
      "['city', 'country', 'month ave: highest high', 'month ave: lowest low\\n']\n"
     ]
    }
   ],
   "source": [
    "# [ ] The Weather: open file, read/print first line, convert line to list (splitting on comma)\n",
    "\n",
    "file= open('world_temp_mean.csv', 'r') \n",
    "headings = file.readlines()\n",
    "print(headings[0])\n",
    "headings_list = headings[0].split(\",\")\n",
    "print(headings_list)\n",
    "\n",
    "\n",
    "\n"
   ]
  },
  {
   "cell_type": "markdown",
   "metadata": {},
   "source": [
    "#### use a while loop to read the remaining lines from the file  \n",
    "  1. Assign remaining lines to a **`city_temp`** variable.  \n",
    "  2. Convert the city_temp to a list using **`.split(',')`** for each **`.readline()`** in the loop.  \n",
    "  3. Print each city & the highest monthly average temperature.  \n",
    "  4. Close mean_temps.  \n",
    "\n",
    ">Tips & Hints:   \n",
    "- Use the print output of **`headings`** to determine the city_temp indexes to use.  \n",
    "- \"month ave: highest high\" for Beijing is 30.9 Celsius.  \n",
    "- Convert `city_temp` to lists with `.split(',')`.  "
   ]
  },
  {
   "cell_type": "code",
   "execution_count": null,
   "metadata": {
    "collapsed": false
   },
   "outputs": [],
   "source": [
    "# [ ] The Weather: use while loop to print city and highest monthly average temp in celsius\n",
    "\n",
    "file= open('world_temp_mean.csv', 'r')\n",
    "mean_temp = file.readlines()\n",
    "mean_temp.sort()\n",
    "print(mean_temp)\n",
    "\n",
    "while city in mean_temp:\n",
    "    print(city.split(\",\")[0]+\" \"+city.split(\",\")[2])\n",
    "\n",
    "\n"
   ]
  },
  {
   "cell_type": "markdown",
   "metadata": {
    "collapsed": true
   },
   "source": [
    "# &nbsp;  \n",
    "<font size=\"6\" color=\"#B24C00\"  face=\"verdana\"> <B>Task 3</B></font>  \n",
    "\n",
    "## Random pi  guessing\n",
    "Create random appearing numbers by reading digits of pi \n",
    "*Note: only \"appears\" random*\n",
    "\n",
    "- Download https://raw.githubusercontent.com/MicrosoftLearning/intropython/master/digits_of_pi  as pi.txt"
   ]
  },
  {
   "cell_type": "code",
   "execution_count": null,
   "metadata": {
    "collapsed": false
   },
   "outputs": [],
   "source": [
    "# [ ] use curl to download https://raw.githubusercontent.com/MicrosoftLearning/intropython/master/digits_of_pi as pi.txt\n",
    "\n"
   ]
  },
  {
   "cell_type": "markdown",
   "metadata": {},
   "source": [
    "#### Set up the project files and intitial values  \n",
    "1. Open pi.txt in read mode, the file has a single line of text \"3.14....\".  \n",
    "2. Get user name as input and say \"hi\".  \n",
    "3. Use the length of `name` for variable called `seed`.  \n",
    "4. Use `.seek()` with the value of `seed` to set the initial pointer location reading the file.  \n",
    "5. Create a variable `digit` and assign it the value of reading one character from the file.  \n",
    "6. Get `guess` variable value from users `input`  - \"enter a single digit guess or \"q\" to quit\".  \n",
    "7. Initialize `correct` and `wrong` counter variables to **`0`**  (zero).  "
   ]
  },
  {
   "cell_type": "code",
   "execution_count": 1,
   "metadata": {
    "collapsed": false
   },
   "outputs": [
    {
     "name": "stdout",
     "output_type": "stream",
     "text": [
      "Hi 7\n",
      "Wrong!\n",
      "Wrong!\n",
      "Wrong!\n",
      "Wrong!\n",
      "Wrong!\n",
      "Wrong!\n",
      "Wrong!\n",
      "Wrong!\n",
      "Wrong!\n",
      "Wrong!\n",
      "Bye!\n",
      "Correct: 0\n",
      "Wrong: 10\n"
     ]
    }
   ],
   "source": [
    "# [ ] Set up the project files and initial values \n",
    "\n",
    "file = open('pi.txt', 'r')\n",
    "name = input(\"What is your name? \")\n",
    "print(\"Hi \"+name)\n",
    "seed = len(name)\n",
    "file.seek(seed)\n",
    "digit = file.read(1)\n",
    "guess = input(\"Enter a single digit guess or 'q' to quit: \")\n",
    "correct = 0\n",
    "wrong = 0\n",
    "\n",
    "while True:\n",
    "    if guess == digit:\n",
    "        print(\"Correct!\")\n",
    "        correct += 1\n",
    "    elif guess == \"q\":\n",
    "        print(\"Bye!\")\n",
    "        break\n",
    "    else:\n",
    "        print(\"Wrong!\")\n",
    "        wrong += 1\n",
    "    guess = input(\"Enter a single digit guess or 'q' to quit: \")\n",
    "\n",
    "print(\"Correct: \"+str(correct))\n",
    "print(\"Wrong: \"+str(wrong))\n",
    "\n",
    "\n",
    "\n",
    "\n"
   ]
  },
  {
   "cell_type": "markdown",
   "metadata": {},
   "source": [
    "#### Create a while loop that tests that `guess` is a *digit* string\n",
    "then in the loop:\n",
    "1. if `digit` ( read from pi file) is \"**.**\" read the next character for digit  \n",
    "2. else if `digit` is \"\\n\" increment `seed` and use `seed` to set the pointer uing .`seek()`  \n",
    "3. else see if `guess` is equal to `digit`   \n",
    "  a. if `guess` equals `digit`: print \"correct\" and increment the varible named `correct`  \n",
    "  b. if `guess` not equal `digit`: print \"incorrect\" and increment the variable named `wrong`  \n",
    "  \n",
    "**end the while loop** when user enters any non-digit(s) for `guess`, like \"q\".  \n",
    "- Print `correct` and `wrong` values within a message to the user.  \n",
    "- Close the pi file.  "
   ]
  },
  {
   "cell_type": "code",
   "execution_count": null,
   "metadata": {
    "collapsed": false
   },
   "outputs": [],
   "source": [
    "# Create a while loop that tests that `guess` is a *digit* string\n",
    "# then in the loop:\n",
    "# 1. if `digit` ( read from pi file) is \"**.**\" read the next character for digit  \n",
    "# 2. else if `digit` is \"\\n\" increment `seed` and use `seed` to set the pointer uing .`seek()`  \n",
    "# 3. else see if `guess` is equal to `digit`   \n",
    "#   a. if `guess` equals `digit`: print \"correct\" and increment the varible named `correct`  \n",
    "#   b. if `guess` not equal `digit`: print \"incorrect\" and increment the variable named `wrong`  \n",
    "  \n",
    "# **end the while loop** when user enters any non-digit(s) for `guess`, like \"q\".  \n",
    "# - Print `correct` and `wrong` values within a message to the user.  \n",
    "# - Close the pi file.  \n",
    "\n",
    "while True:\n",
    "    if guess.isdigit():\n",
    "        if digit == \"..\":\n",
    "            digit = file.read(1)\n",
    "        elif digit == \"\\n\":\n",
    "            seed += 1\n",
    "            file.seek(seed)\n",
    "            digit = file.read(1)\n",
    "        else:\n",
    "            if guess == digit:\n",
    "                print(\"Correct!\")\n",
    "                correct += 1\n",
    "            else:\n",
    "                print(\"Wrong!\")\n",
    "                wrong += 1\n",
    "        guess = input(\"Enter a single digit guess or 'q' to quit: \")\n",
    "    else:\n",
    "        print(\"Bye!\")\n",
    "        break\n"
   ]
  },
  {
   "cell_type": "code",
   "execution_count": null,
   "metadata": {
    "collapsed": true
   },
   "outputs": [],
   "source": []
  },
  {
   "cell_type": "markdown",
   "metadata": {
    "collapsed": true
   },
   "source": [
    "[Terms of use](http://go.microsoft.com/fwlink/?LinkID=206977) &nbsp; [Privacy & cookies](https://go.microsoft.com/fwlink/?LinkId=521839) &nbsp; © 2017 Microsoft"
   ]
  }
 ],
 "metadata": {
  "anaconda-cloud": {},
  "kernelspec": {
   "display_name": "Python 3",
   "language": "python",
   "name": "python3"
  },
  "language_info": {
   "codemirror_mode": {
    "name": "ipython",
    "version": 3
   },
   "file_extension": ".py",
   "mimetype": "text/x-python",
   "name": "python",
   "nbconvert_exporter": "python",
   "pygments_lexer": "ipython3",
   "version": "3.10.5"
  },
  "vscode": {
   "interpreter": {
    "hash": "2d4b8ebe0d4dfa9fda2d3632f42e8ef3f7d2688a2e11c0f82dac462ac8b4c373"
   }
  }
 },
 "nbformat": 4,
 "nbformat_minor": 1
}
