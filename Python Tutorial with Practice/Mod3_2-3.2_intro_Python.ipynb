{
 "cells": [
  {
   "cell_type": "markdown",
   "metadata": {},
   "source": [
    "# 2-3.2 Intro Python\n",
    "# The Power of List Iteration (loops)\n",
    "- for in: **`for`** loop using **`in`**\n",
    "- ** for range: `for range(start,stop,step)`** \n",
    "- more list methods: **`.extend()`, `+, .reverse(), .sort()`**      \n",
    "- strings to lists, **`.split()`**, and list to strings, **`.join()`**   \n",
    "\n",
    "\n",
    "----- \n",
    "\n",
    "><font size=\"5\" color=\"#00A0B2\"  face=\"verdana\"> <B>Student will be able to</B></font>  \n",
    "- Iterate through Lists using **`for`** with **`in`**\n",
    "- **Use `for range()` in looping operations**  \n",
    "- Use list methods **`.extend()`, `+, .reverse(), .sort()`**  \n",
    "- convert between lists and strings using  **`.split()`** and **`.join()`**"
   ]
  },
  {
   "cell_type": "markdown",
   "metadata": {},
   "source": [
    "# &nbsp;\n",
    "<font size=\"6\" color=\"#00A0B2\"  face=\"verdana\"> <B>Concepts</B></font>\n",
    "##  `range(stop)`\n",
    "[![view video](https://iajupyterprodblobs.blob.core.windows.net/imagecontainer/common/play_video.png)](http://edxinteractivepage.blob.core.windows.net/edxpages/f7cff1a7-5601-48a1-95a6-fd1fdfabd20e.html?details=[{\"src\":\"http://jupyternootbookwams.streaming.mediaservices.windows.net/bda2424d-4f25-4c0a-a77a-06384f3da8f2/Unit2_Section3.2a_range_stop.ism/manifest\",\"type\":\"application/vnd.ms-sstr+xml\"}],[{\"src\":\"http://jupyternootbookwams.streaming.mediaservices.windows.net/bda2424d-4f25-4c0a-a77a-06384f3da8f2/Unit2_Section3.2a_range_stop.vtt\",\"srclang\":\"en\",\"kind\":\"subtitles\",\"label\":\"english\"}])\n",
    "### The range(*stop*) function creates a sequence  \n",
    "using 1 argument with range(*stop*)\n",
    "- deault start: 0\n",
    "- stop: stopping integer, does not process stop number\n",
    "```python\n",
    "for count in range(10):\n",
    "  print(count)\n",
    "```\n",
    "### same as\n",
    "```python\n",
    "for count in [0, 1, 2, 3, 4, 5, 6, 7, 8, 9]:\n",
    "  print(count)\n",
    "```\n"
   ]
  },
  {
   "cell_type": "markdown",
   "metadata": {},
   "source": [
    "# &nbsp;\n",
    "<font size=\"6\" color=\"#00A0B2\"  face=\"verdana\"> <B>Examples</B></font>  \n",
    "### range runs from `0` through the integer before `stop`"
   ]
  },
  {
   "cell_type": "code",
   "execution_count": null,
   "metadata": {
    "collapsed": false
   },
   "outputs": [],
   "source": [
    "# [ ] review and run example\n",
    "for count in range(10):\n",
    "  print(count)"
   ]
  },
  {
   "cell_type": "code",
   "execution_count": null,
   "metadata": {
    "collapsed": false
   },
   "outputs": [],
   "source": [
    "# review and run example\n",
    "digits = range(10)\n",
    "print(\"digits =\", list(digits), \"\\n\")\n",
    "\n",
    "for count in digits:\n",
    "    print(count)"
   ]
  },
  {
   "cell_type": "code",
   "execution_count": null,
   "metadata": {
    "collapsed": false
   },
   "outputs": [],
   "source": [
    "# [ ] review and run example\n",
    "sub_total = 0\n",
    "for item in range(10):\n",
    "    sub_total += item\n",
    "    print(\"sub_total:\", sub_total)\n",
    "print(\"Total =\", sub_total)"
   ]
  },
  {
   "cell_type": "code",
   "execution_count": null,
   "metadata": {
    "collapsed": false
   },
   "outputs": [],
   "source": [
    "# [ ] review and run example\n",
    "# print the first half of a spelling list\n",
    "spell_list = [\"Tuesday\", \"Wednesday\", \"February\", \"November\", \"Annual\", \"Calendar\", \"Solstice\"]\n",
    "\n",
    "# find length of 1st half of list (must be int)\n",
    "half_1 = int(len(spell_list)/2)\n",
    "\n",
    "for word in range(half_1):\n",
    "    print(spell_list[word])"
   ]
  },
  {
   "cell_type": "markdown",
   "metadata": {
    "collapsed": true
   },
   "source": [
    "# &nbsp;\n",
    "<font size=\"6\" color=\"#B24C00\"  face=\"verdana\"> <B>Task 1</B></font>\n",
    "\n",
    "## `range(stop)`"
   ]
  },
  {
   "cell_type": "code",
   "execution_count": 1,
   "metadata": {
    "collapsed": false
   },
   "outputs": [
    {
     "name": "stdout",
     "output_type": "stream",
     "text": [
      "1\n",
      "2\n",
      "3\n",
      "4\n",
      "5\n",
      "6\n"
     ]
    }
   ],
   "source": [
    "# [ ] for x = 6, use range(x) to print the numbers 1 through 6\n",
    "x = 6\n",
    "for num in range(x):\n",
    "    print(num+1)\n",
    "    \n",
    "\n"
   ]
  },
  {
   "cell_type": "code",
   "execution_count": 2,
   "metadata": {
    "collapsed": false
   },
   "outputs": [
    {
     "name": "stdout",
     "output_type": "stream",
     "text": [
      "5040\n"
     ]
    }
   ],
   "source": [
    "# [ ] using range(x) multiply the numbers 1 through 7\n",
    "# 1x2x3x4x5x6x7 = 5040\n",
    "x = 7\n",
    "total = 1\n",
    "for num in range(x):\n",
    "    total *= num+1\n",
    "print(total)\n",
    "\n"
   ]
  },
  {
   "cell_type": "markdown",
   "metadata": {},
   "source": [
    "Use **`range(stop)`** to print the second half of spell_list below"
   ]
  },
  {
   "cell_type": "code",
   "execution_count": 3,
   "metadata": {
    "collapsed": false
   },
   "outputs": [
    {
     "name": "stdout",
     "output_type": "stream",
     "text": [
      "November\n",
      "Annual\n",
      "Calendar\n",
      "Solstice\n"
     ]
    }
   ],
   "source": [
    "# [ ] print the second half of a spelling list using a range(stop) loop to iterate the list\n",
    "spell_list = [\"Wednesday\", \"Tuesday\", \"February\", \"November\", \"Annual\", \"Calendar\", \"Solstice\"]\n",
    "\n",
    "# find length of 1st half of list (must be int)\n",
    "half_1 = int(len(spell_list)/2)\n",
    "\n",
    "for word in range(half_1, len(spell_list)):\n",
    "    print(spell_list[word])\n",
    "    \n",
    "\n",
    "\n"
   ]
  },
  {
   "cell_type": "markdown",
   "metadata": {},
   "source": [
    "# &nbsp;\n",
    "<font size=\"6\" color=\"#00A0B2\"  face=\"verdana\"> <B>Concepts</B></font>\n",
    "##  `range(start,stop)`\n",
    "[![view video](https://iajupyterprodblobs.blob.core.windows.net/imagecontainer/common/play_video.png)](http://edxinteractivepage.blob.core.windows.net/edxpages/f7cff1a7-5601-48a1-95a6-fd1fdfabd20e.html?details=[{\"src\":\"http://jupyternootbookwams.streaming.mediaservices.windows.net/95d6c75a-ed37-4f50-9049-2a2c225f9499/Unit2_Section3.2b_range_start_stop.ism/manifest\",\"type\":\"application/vnd.ms-sstr+xml\"}],[{\"src\":\"http://jupyternootbookwams.streaming.mediaservices.windows.net/95d6c75a-ed37-4f50-9049-2a2c225f9499/Unit2_Section3.2b_range_start_stop.vtt\",\"srclang\":\"en\",\"kind\":\"subtitles\",\"label\":\"english\"}])\n",
    "### The range(*start,stop*) function creates a sequence\n",
    "using 2 arguments with range(*start,stop*)\n",
    "- start: starting integer value of a range loop\n",
    "- stop: stopping integer (second argument), does not process stop number \n",
    "```python\n",
    "for count in range(5,10):\n",
    "  print(count)\n",
    "```\n"
   ]
  },
  {
   "cell_type": "markdown",
   "metadata": {},
   "source": [
    "### &nbsp;\n",
    "<font size=\"6\" color=\"#00A0B2\"  face=\"verdana\"> <B>Examples</B></font>  \n",
    "### range runs from `start` integer through the integer before `stop`"
   ]
  },
  {
   "cell_type": "code",
   "execution_count": null,
   "metadata": {
    "collapsed": false
   },
   "outputs": [],
   "source": [
    "# [ ] review and run example\n",
    "for count in range(5,10):\n",
    "  print(count)"
   ]
  },
  {
   "cell_type": "code",
   "execution_count": null,
   "metadata": {
    "collapsed": false
   },
   "outputs": [],
   "source": [
    "# [ ] review and run example\n",
    "sub_total = 0\n",
    "temp = 0\n",
    "for item in range(5, 11):\n",
    "    temp = sub_total\n",
    "    sub_total += item\n",
    "    print(\"sub_total:\", temp, \"+\", item, \"=\",sub_total)\n",
    "print(\"Total =\", sub_total)"
   ]
  },
  {
   "cell_type": "code",
   "execution_count": null,
   "metadata": {
    "collapsed": false
   },
   "outputs": [],
   "source": [
    "# [ ] review and run example\n",
    "\n",
    "spell_list = [\"Tuesday\", \"Wednesday\", \"February\", \"November\", \"Annual\", \"Calendar\", \"Solstice\"]\n",
    "\n",
    "# find length list \n",
    "spell_len = len(spell_list)\n",
    "# find lenght of 1st half (aka - start of 2nd half)\n",
    "half_1 = int(spell_len/2)\n",
    "\n",
    "# print 2nd half list\n",
    "for word in range(half_1,spell_len):\n",
    "    print(spell_list[word])"
   ]
  },
  {
   "cell_type": "markdown",
   "metadata": {
    "collapsed": true
   },
   "source": [
    "# &nbsp;\n",
    "<font size=\"6\" color=\"#B24C00\"  face=\"verdana\"> <B>Task 2</B></font>\n",
    "\n",
    "##  `range(start,stop)`"
   ]
  },
  {
   "cell_type": "code",
   "execution_count": 4,
   "metadata": {
    "collapsed": false
   },
   "outputs": [
    {
     "name": "stdout",
     "output_type": "stream",
     "text": [
      "[5, 6, 7, 8, 9, 10, 11, 12, 13, 14, 15]\n"
     ]
    }
   ],
   "source": [
    "# [ ] using range(start,stop), .append() the numbers 5 to 15 to the list: five_fifteen\n",
    "# [ ] print list five_fifteen\n",
    "\n",
    "five_fifteen = []\n",
    "for num in range(5,16):\n",
    "    five_fifteen.append(num)\n",
    "print(five_fifteen)\n",
    "\n",
    "\n"
   ]
  },
  {
   "cell_type": "code",
   "execution_count": 5,
   "metadata": {
    "collapsed": false
   },
   "outputs": [
    {
     "name": "stdout",
     "output_type": "stream",
     "text": [
      "February\n",
      "November\n",
      "Annual\n"
     ]
    }
   ],
   "source": [
    "# [ ] using range(start,stop) - print the 3rd, 4th and 5th words in spell_list\n",
    "# output should include \"February\", \"November\", \"Annual\"\n",
    "spell_list = [\"Tuesday\", \"Wednesday\", \"February\", \"November\", \"Annual\", \"Calendar\", \"Solstice\"]\n",
    "\n",
    "for word in range(2,5):\n",
    "    print(spell_list[word])\n",
    "\n",
    "\n",
    "\n"
   ]
  },
  {
   "cell_type": "code",
   "execution_count": 6,
   "metadata": {
    "collapsed": false
   },
   "outputs": [
    {
     "name": "stdout",
     "output_type": "stream",
     "text": [
      "Annual\n",
      "Calendar\n",
      "Solstice\n"
     ]
    }
   ],
   "source": [
    "# [ ] using code find the index of \"Annual\" in spell_list\n",
    "# [ ] using range, print the spell_list including \"Annual\" to end of list\n",
    "spell_list = [\"Tuesday\", \"Wednesday\", \"February\", \"November\", \"Annual\", \"Calendar\", \"Solstice\"]\n",
    "\n",
    "for word in range(4,len(spell_list)):\n",
    "    print(spell_list[word])\n",
    "    \n",
    "\n"
   ]
  },
  {
   "cell_type": "markdown",
   "metadata": {},
   "source": [
    "# &nbsp;\n",
    "<font size=\"6\" color=\"#00A0B2\"  face=\"verdana\"> <B>Concepts</B></font>\n",
    "##  `range(start,stop,step)`\n",
    "[![view video](https://iajupyterprodblobs.blob.core.windows.net/imagecontainer/common/play_video.png)](http://edxinteractivepage.blob.core.windows.net/edxpages/f7cff1a7-5601-48a1-95a6-fd1fdfabd20e.html?details=[{\"src\":\"http://jupyternootbookwams.streaming.mediaservices.windows.net/4299f0e2-3dc2-4298-aff1-e2a0b013de6a/Unit2_Section3.2c_range_start_stop_step.ism/manifest\",\"type\":\"application/vnd.ms-sstr+xml\"}],[{\"src\":\"http://jupyternootbookwams.streaming.mediaservices.windows.net/4299f0e2-3dc2-4298-aff1-e2a0b013de6a/Unit2_Section3.2c_range_start_stop_step.vtt\",\"srclang\":\"en\",\"kind\":\"subtitles\",\"label\":\"english\"}])\n",
    "### The range(*start,stop,step*) function creates a sequence\n",
    "using 3 arguments with range(*start,stop,step*)\n",
    "- start: starting integer value of a range loop\n",
    "- stop: stopping integer (second argument), does not process stop number \n",
    "- step: skip value for each loop\n",
    "```python\n",
    "for count in range(10,101,10):\n",
    "  print(count)\n",
    "```\n"
   ]
  },
  {
   "cell_type": "markdown",
   "metadata": {},
   "source": [
    "# &nbsp;\n",
    "<font size=\"6\" color=\"#00A0B2\"  face=\"verdana\"> <B>Examples</B></font>  \n",
    "### range runs from `start` integer, skipping by `step`, through the largest `step` integer before reaching `stop`"
   ]
  },
  {
   "cell_type": "code",
   "execution_count": null,
   "metadata": {
    "collapsed": false
   },
   "outputs": [],
   "source": [
    "# [ ] review and run example\n",
    "for count in range(25,101,25):\n",
    "  print(count)"
   ]
  },
  {
   "cell_type": "code",
   "execution_count": null,
   "metadata": {
    "collapsed": false
   },
   "outputs": [],
   "source": [
    "# [ ] review and run example\n",
    "sub_total = 0\n",
    "temp = 0\n",
    "for item in range(25,46,5):\n",
    "    temp = sub_total\n",
    "    sub_total += item\n",
    "    print(\"sub_total:\", temp, \"+\", item, \"=\",sub_total)\n",
    "print(\"Total =\", sub_total)"
   ]
  },
  {
   "cell_type": "code",
   "execution_count": null,
   "metadata": {
    "collapsed": false
   },
   "outputs": [],
   "source": [
    "# [ ] review and run example printing the 1st and then every other word in spell_list\n",
    "spell_list = [\"Tuesday\", \"Wednesday\", \"February\", \"November\", \"Annual\", \"Calendar\", \"Solstice\"]\n",
    "\n",
    "for index in range(0,len(spell_list),2):\n",
    "    print(spell_list[index])"
   ]
  },
  {
   "cell_type": "code",
   "execution_count": null,
   "metadata": {
    "collapsed": false
   },
   "outputs": [],
   "source": [
    "# [ ] review and run example casting range to list\n",
    "odd_list = list(range(1,20,2))\n",
    "print(odd_list)"
   ]
  },
  {
   "cell_type": "markdown",
   "metadata": {
    "collapsed": true
   },
   "source": [
    "# &nbsp;\n",
    "<font size=\"6\" color=\"#B24C00\"  face=\"verdana\"> <B>Task 3</B></font>  \n",
    "## `range(start,stop,step)`"
   ]
  },
  {
   "cell_type": "code",
   "execution_count": 7,
   "metadata": {
    "collapsed": false
   },
   "outputs": [
    {
     "name": "stdout",
     "output_type": "stream",
     "text": [
      "10\n",
      "12\n",
      "14\n",
      "16\n",
      "18\n",
      "20\n"
     ]
    }
   ],
   "source": [
    "# [ ] print numbers 10 to 20 by 2's using range\n",
    "for num in range(10,21,2):\n",
    "    print(num)\n",
    "    \n",
    "\n",
    "\n"
   ]
  },
  {
   "cell_type": "code",
   "execution_count": 9,
   "metadata": {
    "collapsed": false
   },
   "outputs": [
    {
     "name": "stdout",
     "output_type": "stream",
     "text": [
      "20\n",
      "19\n",
      "18\n",
      "17\n",
      "16\n",
      "15\n",
      "14\n",
      "13\n",
      "12\n",
      "11\n",
      "10\n"
     ]
    }
   ],
   "source": [
    "# [ ] print numbers 20 to 10 using range (need to countdown)\n",
    "# Hint: start at 20\n",
    "for num in range(20,9,-1):\n",
    "    print(num)\n",
    "    \n",
    "\n"
   ]
  },
  {
   "cell_type": "code",
   "execution_count": 10,
   "metadata": {
    "collapsed": false
   },
   "outputs": [
    {
     "name": "stdout",
     "output_type": "stream",
     "text": [
      "Tuesday\n",
      "November\n",
      "Solstice\n"
     ]
    }
   ],
   "source": [
    "# [ ] print first and every third word in spell_list\n",
    "spell_list = [\"Tuesday\", \"Wednesday\", \"February\", \"November\", \"Annual\", \"Calendar\", \"Solstice\"]\n",
    "\n",
    "for word in range(0,len(spell_list),3):\n",
    "    print(spell_list[word])\n",
    "    \n",
    "\n"
   ]
  },
  {
   "cell_type": "markdown",
   "metadata": {
    "collapsed": true
   },
   "source": [
    "# &nbsp;\n",
    "<font size=\"6\" color=\"#B24C00\"  face=\"verdana\"> <B>Task 4</B></font>  \n",
    "\n",
    "### Program: List of letters \n",
    "- Input a word string (**word**)\n",
    "- find the string length of word \n",
    "- **use range()** to iterate through each letter in word (can use to range loops)\n",
    "- Save odd and even letters from the word as lists\n",
    "  - **odd_letters**: starting at index 0,2,...\n",
    "  - **even_letters**: starting at index 1,3,...\n",
    "- print odd and even lists"
   ]
  },
  {
   "cell_type": "code",
   "execution_count": 13,
   "metadata": {
    "collapsed": false
   },
   "outputs": [
    {
     "name": "stdout",
     "output_type": "stream",
     "text": [
      "odd index letters: ['s', 'i']\n",
      "even index letters: ['a', 'm']\n"
     ]
    }
   ],
   "source": [
    "# [ ] complete List of letters program- test with the word \"complexity\"\n",
    "\n",
    "word = input(\"Enter a word: \")\n",
    "l=len(word)\n",
    "odd=[]\n",
    "even=[]\n",
    "\n",
    "for letter in range(l):\n",
    "    if letter%2==0:\n",
    "        odd.append(word[letter])\n",
    "    else:\n",
    "        even.append(word[letter])\n",
    "print(\"odd index letters:\", odd)\n",
    "print(\"even index letters:\", even)\n",
    "\n",
    "\n",
    "\n",
    "\n"
   ]
  },
  {
   "cell_type": "markdown",
   "metadata": {},
   "source": [
    "# &nbsp;\n",
    "<font size=\"6\" color=\"#B24C00\"  face=\"verdana\"> <B>Task 5: fix the error</B></font>\n"
   ]
  },
  {
   "cell_type": "code",
   "execution_count": 15,
   "metadata": {
    "collapsed": false
   },
   "outputs": [
    {
     "name": "stdout",
     "output_type": "stream",
     "text": [
      "1\n",
      "3\n",
      "5\n",
      "7\n",
      "9\n"
     ]
    }
   ],
   "source": [
    "# [ ] fix the error printing odd numbers 1 - 9\n",
    "for num in range(1,10,2):\n",
    "    print(num)\n",
    "\n",
    "\n",
    "\n"
   ]
  },
  {
   "cell_type": "markdown",
   "metadata": {},
   "source": [
    "[Terms of use](http://go.microsoft.com/fwlink/?LinkID=206977) &nbsp; [Privacy & cookies](https://go.microsoft.com/fwlink/?LinkId=521839) &nbsp; © 2017 Microsoft"
   ]
  }
 ],
 "metadata": {
  "anaconda-cloud": {},
  "kernelspec": {
   "display_name": "Python 3",
   "language": "python",
   "name": "python3"
  },
  "language_info": {
   "codemirror_mode": {
    "name": "ipython",
    "version": 3
   },
   "file_extension": ".py",
   "mimetype": "text/x-python",
   "name": "python",
   "nbconvert_exporter": "python",
   "pygments_lexer": "ipython3",
   "version": "3.10.5"
  },
  "vscode": {
   "interpreter": {
    "hash": "2d4b8ebe0d4dfa9fda2d3632f42e8ef3f7d2688a2e11c0f82dac462ac8b4c373"
   }
  }
 },
 "nbformat": 4,
 "nbformat_minor": 1
}
